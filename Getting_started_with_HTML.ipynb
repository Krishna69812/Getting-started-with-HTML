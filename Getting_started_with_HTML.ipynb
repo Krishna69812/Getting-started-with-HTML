{
  "nbformat": 4,
  "nbformat_minor": 0,
  "metadata": {
    "colab": {
      "provenance": []
    },
    "kernelspec": {
      "name": "python3",
      "display_name": "Python 3"
    },
    "language_info": {
      "name": "python"
    }
  },
  "cells": [
    {
      "cell_type": "code",
      "execution_count": null,
      "metadata": {
        "id": "oPqY8zV9C0lM"
      },
      "outputs": [],
      "source": [
        "#1> Write a simple program in HTML  that displays the heading \"HTML defines the content and structure of your website \" on the web browser?\n",
        "\n",
        "<!DOCTYPE html>\n",
        "<html lang=\"en\">\n",
        "<head>\n",
        "    <meta charset=\"UTF-8\">\n",
        "    <meta name=\"viewport\" content=\"width=device-width, initial-scale=1.0\">\n",
        "    <title>HTML </title>\n",
        "</head>\n",
        "<body>\n",
        "    <h1>HTML defines the content and structure of your website</h1>\n",
        "</body>\n",
        "</html>\n",
        "\n",
        "#2> Explain the purpose of comments in HTML and provide an example of how to use comments in an HTML document?\n",
        "\n",
        "\n",
        "--- Comments are usd for non-executing code notes and aid in code documentation and debugging.\n",
        "    Exmple-->\n",
        "<! -- This is a comment. -->\n",
        "<p> Suppose this is a text </p>\n",
        "<!-- this is the next comment-->\n",
        "\n",
        "\n",
        "#3> Write an HTML program that includes a heading, a paragraph of text, a horizontal line, and a line break.Arrange these elements to create a simple web page layout?\n",
        "\n",
        "<!DOCTYPE html>\n",
        "<html lang=\"en\">\n",
        "<head>\n",
        "    <meta charset=\"UTF-8\">\n",
        "    <meta name=\"viewport\" content=\"width=device-width, initial-scale=1.0\">\n",
        "    <title>HTML</title>\n",
        "</head>\n",
        "<body>\n",
        "\n",
        "    <h1>THIS IS A HEADING</h1>\n",
        "    <p>This is a paragraph</p>\n",
        "         <hr>\n",
        "         <p> this is another paragraph <br> with line break</p>\n",
        "\n",
        "</body>\n",
        "</html>\n",
        "\n",
        "#4> Write a short note on Tag and element with an example?\n",
        "\n",
        "\"\"\"\n",
        " Tags are the building blocks of web pages, specifying different types of content, such as headings, paragraphs, images, links, and more.\n",
        " Example: <h1> </h1>, <p></p> .\n",
        " An element encompasses the entire structure, including the opening and closing tags, any content within, and any attributes associated with the tag.\n",
        " Examples: <h1>This is a heading</h1>, <p>This is a paragraph.</p> .\n",
        "\n",
        "\n",
        "\"\"\"\n",
        "\n",
        "#5> What is the DOCTYPE Declaration in HTML?\n",
        "\n",
        "\"\"\"\n",
        "The DOCTYPE declaration in HTML tells a web browser which version of HTML a document is written in.\n",
        "\"\"\"\n",
        "\n",
        "\n"
      ]
    }
  ]
}
